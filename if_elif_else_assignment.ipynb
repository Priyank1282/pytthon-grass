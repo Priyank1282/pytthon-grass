{
 "cells": [
  {
   "cell_type": "code",
   "execution_count": 1,
   "id": "138d2634",
   "metadata": {},
   "outputs": [],
   "source": [
    "#Write a Python program to find maximum between two numbers."
   ]
  },
  {
   "cell_type": "code",
   "execution_count": 5,
   "id": "4fa6124d",
   "metadata": {},
   "outputs": [
    {
     "name": "stdout",
     "output_type": "stream",
     "text": [
      "Enter 1st Number:33\n",
      "Enter 2nd Number33\n",
      "Both are Equal\n"
     ]
    }
   ],
   "source": [
    "a=int(input('Enter 1st Number:'))\n",
    "b=int(input('Enter 2nd Number'))\n",
    "if a>b:\n",
    "    print(f'{a} is greater than {b}')\n",
    "elif b>a:\n",
    "    print(f'{b} is greater than {a}')\n",
    "else:\n",
    "    print(\"Both are Equal\")"
   ]
  },
  {
   "cell_type": "code",
   "execution_count": 6,
   "id": "d1deede4",
   "metadata": {},
   "outputs": [],
   "source": [
    "#Write a Python program to find maximum between three numbers."
   ]
  },
  {
   "cell_type": "code",
   "execution_count": 16,
   "id": "5703387e",
   "metadata": {},
   "outputs": [
    {
     "name": "stdout",
     "output_type": "stream",
     "text": [
      "Enter 1st Number:20\n",
      "Enter 2nd Number:20\n",
      "Enter 3rd Number:50\n",
      "50 is greater than 20,20\n"
     ]
    }
   ],
   "source": [
    "a=int(input('Enter 1st Number:'))\n",
    "b=int(input('Enter 2nd Number:'))\n",
    "c=int(input(\"Enter 3rd Number:\"))\n",
    "if a>b and a>c:\n",
    "    print(f\"{a} is greater than {b},{c}\")\n",
    "elif b>a and b>c:\n",
    "    print(f\"{b} is greater than {a},{c}\")\n",
    "elif c>a and c>b:\n",
    "    print(f\"{c} is greater than {a},{b}\")\n",
    "else:\n",
    "    print(f'{a},{b} and {c} are Equal')"
   ]
  },
  {
   "cell_type": "code",
   "execution_count": null,
   "id": "a92e28c4",
   "metadata": {},
   "outputs": [],
   "source": [
    "#Write a Python program to check whether a number is negative, positive or zero."
   ]
  },
  {
   "cell_type": "code",
   "execution_count": 19,
   "id": "4c00c959",
   "metadata": {},
   "outputs": [
    {
     "name": "stdout",
     "output_type": "stream",
     "text": [
      "Enter Number:0\n",
      "Entered Number is Zero.\n"
     ]
    }
   ],
   "source": [
    "n=int(input(\"Enter Number:\"))\n",
    "if n>0:\n",
    "    print(\"Entered Number is Positive.\")\n",
    "elif n<0:\n",
    "    print(\"Entered Number is Negative.\")\n",
    "else:\n",
    "    print(\"Entered Number is Zero.\")"
   ]
  },
  {
   "cell_type": "code",
   "execution_count": 20,
   "id": "68c0019d",
   "metadata": {},
   "outputs": [],
   "source": [
    "#Write a Python program to check whether a number is divisible by 5 and 11 or not."
   ]
  },
  {
   "cell_type": "code",
   "execution_count": 21,
   "id": "8b554628",
   "metadata": {},
   "outputs": [
    {
     "name": "stdout",
     "output_type": "stream",
     "text": [
      "enter number-55\n",
      "55 is divisible by 5 and 11\n"
     ]
    }
   ],
   "source": [
    "n=int(input('Enter Number:'))\n",
    "if n%5==0 and n%11==0:\n",
    "    print(f'{n} is divisible by 5 and 11')\n",
    "else:\n",
    "    print(f'{n} is not divisible by 5 and 11')"
   ]
  },
  {
   "cell_type": "code",
   "execution_count": 22,
   "id": "1ae05339",
   "metadata": {},
   "outputs": [],
   "source": [
    "#Write a Python program to check whether a number is even or odd."
   ]
  },
  {
   "cell_type": "code",
   "execution_count": 25,
   "id": "e048faf3",
   "metadata": {},
   "outputs": [
    {
     "name": "stdout",
     "output_type": "stream",
     "text": [
      "Enter Number:7\n",
      "7 is an odd Number.\n"
     ]
    }
   ],
   "source": [
    "n=int(input(\"Enter Number:\"))\n",
    "if n%2==0:\n",
    "    print(f'{n} is an even Number.')\n",
    "else:\n",
    "    print(f'{n} is an odd Number.')"
   ]
  },
  {
   "cell_type": "code",
   "execution_count": 26,
   "id": "85a63567",
   "metadata": {},
   "outputs": [],
   "source": [
    "#Write a Python program to check whether a year is leap year or not."
   ]
  },
  {
   "cell_type": "code",
   "execution_count": 28,
   "id": "4452a4ed",
   "metadata": {},
   "outputs": [
    {
     "name": "stdout",
     "output_type": "stream",
     "text": [
      "Enter Year:1900\n",
      "1900 is not leap year\n"
     ]
    }
   ],
   "source": [
    "year=int(input('Enter Year:'))\n",
    "if year%100==0:\n",
    "    if year%400==0:\n",
    "        print(f'{year} is leap year')\n",
    "    else:\n",
    "        print(f'{year} is not leap year')\n",
    "        \n",
    "\n",
    "else:\n",
    "    if year%4==0:\n",
    "        print(f'{year} is leap year')\n",
    "    else:\n",
    "        print(f'{year} is not leap year')"
   ]
  },
  {
   "cell_type": "code",
   "execution_count": 29,
   "id": "cf0714a0",
   "metadata": {},
   "outputs": [],
   "source": [
    "#Write a Python program to check whether a character is alphabet or not."
   ]
  },
  {
   "cell_type": "code",
   "execution_count": 33,
   "id": "f19d6522",
   "metadata": {},
   "outputs": [
    {
     "name": "stdout",
     "output_type": "stream",
     "text": [
      "Enter Character:dd\n",
      "dd is Character.\n"
     ]
    }
   ],
   "source": [
    "ch=str(input(\"Enter Character:\"))\n",
    "if ch.isalpha():\n",
    "    print(f\"{ch} is Character.\")\n",
    "else:\n",
    "    print(f\"{ch} is not Character.\")"
   ]
  },
  {
   "cell_type": "code",
   "execution_count": 34,
   "id": "ed1f97f7",
   "metadata": {},
   "outputs": [],
   "source": [
    "#Write a Python program to input any alphabet and check whether it is vowel or consonant."
   ]
  },
  {
   "cell_type": "code",
   "execution_count": 38,
   "id": "6f3069b2",
   "metadata": {},
   "outputs": [
    {
     "name": "stdout",
     "output_type": "stream",
     "text": [
      "Enter Character:E\n",
      "E is a Vowel\n"
     ]
    }
   ],
   "source": [
    "ch=str(input(\"Enter Character:\"))\n",
    "if ch=='A' or ch=='a' or ch=='E' or ch=='e' or ch=='I' or ch=='i' or ch=='O' or ch=='o' or ch=='U' or ch=='u':\n",
    "    print(f\"{ch} is a Vowel\")\n",
    "else:\n",
    "    print(f\"{ch} is a Consonant\")"
   ]
  },
  {
   "cell_type": "code",
   "execution_count": 39,
   "id": "8e9a5974",
   "metadata": {},
   "outputs": [],
   "source": [
    "#Write a Python program to input any character and check whether it is alphabet, digit or special character."
   ]
  },
  {
   "cell_type": "code",
   "execution_count": 40,
   "id": "8d40bdf8",
   "metadata": {},
   "outputs": [
    {
     "name": "stdout",
     "output_type": "stream",
     "text": [
      "Enter Character:99\n",
      "99 is digit\n"
     ]
    }
   ],
   "source": [
    "ch=str(input(\"Enter Character:\"))\n",
    "if ch.isalpha():\n",
    "    print(f'{ch} is alphabet')\n",
    "elif ch.isdigit():\n",
    "    print(f'{ch} is digit')\n",
    "else:\n",
    "    print(f'{ch} is special charachter')"
   ]
  },
  {
   "cell_type": "code",
   "execution_count": 41,
   "id": "97c9b7ed",
   "metadata": {},
   "outputs": [],
   "source": [
    "#Write a Python program to check whether a character is uppercase or lowercase alphabet."
   ]
  },
  {
   "cell_type": "code",
   "execution_count": 42,
   "id": "00501d11",
   "metadata": {},
   "outputs": [
    {
     "name": "stdout",
     "output_type": "stream",
     "text": [
      "Enter Character:a\n",
      "a is LowerCase Alphabet\n"
     ]
    }
   ],
   "source": [
    "ch=str(input(\"Enter Character:\"))\n",
    "if ch.isupper():\n",
    "    print(f'{ch} is UpperCase Alphabet')\n",
    "elif ch.islower():\n",
    "    print(f'{ch} is LowerCase Alphabet')\n",
    "else:\n",
    "    print(f'{ch} is not an Character')"
   ]
  },
  {
   "cell_type": "code",
   "execution_count": 43,
   "id": "4c0b3a38",
   "metadata": {},
   "outputs": [],
   "source": [
    "#Write a Python program to input week number and print week day."
   ]
  },
  {
   "cell_type": "code",
   "execution_count": 44,
   "id": "cbd3fda3",
   "metadata": {},
   "outputs": [
    {
     "name": "stdout",
     "output_type": "stream",
     "text": [
      "Enter Week Number:3\n",
      "Tuesday\n"
     ]
    }
   ],
   "source": [
    "week=int(input(\"Enter Week Number:\"))\n",
    "if week==1:\n",
    "    print('Sunday')\n",
    "elif week==2:\n",
    "    print('Monday')\n",
    "elif week==3:\n",
    "    print('Tuesday')\n",
    "elif week==4:\n",
    "    print('Wednesday')\n",
    "elif week==5:\n",
    "    print('Thursday')\n",
    "elif week==6:\n",
    "    print('Friday')\n",
    "elif week==7:\n",
    "    print('Saturday')"
   ]
  },
  {
   "cell_type": "code",
   "execution_count": null,
   "id": "0c4774fc",
   "metadata": {},
   "outputs": [],
   "source": [
    "#Write a Python program to count total number of notes in given amount.  INCOMPLETE"
   ]
  },
  {
   "cell_type": "code",
   "execution_count": 3,
   "id": "716a6085",
   "metadata": {},
   "outputs": [
    {
     "name": "stdout",
     "output_type": "stream",
     "text": [
      "Enter Ammount:3450\n",
      "1 --> 2000\n",
      "2 --> 500\n",
      "2 --> 200\n",
      "2 --> 20\n",
      "1 --> 10\n"
     ]
    }
   ],
   "source": [
    "amt=int(input(\"Enter Ammount:\"))\n",
    "if amt>=2000:\n",
    "    n2000=amt//2000\n",
    "    amt=amt%2000\n",
    "    print(f'{a} --> 2000')\n",
    "if amt>=500:\n",
    "    n500=amt//500\n",
    "    amt=amt%500\n",
    "    b=int(n500)\n",
    "    print(f'{b} --> 500')\n",
    "if amt>200:\n",
    "    n200=amt//200\n",
    "    amt=amt%200\n",
    "    c=int(n200)\n",
    "    print(f'{c} --> 200')\n",
    "if amt>100:\n",
    "    n100=amt//100\n",
    "    amt=amt%100\n",
    "    d=int(n100)\n",
    "    print(f'{c} --> 100')\n",
    "if amt>50:\n",
    "    n50=amt//50\n",
    "    amt=amt%50\n",
    "    d=int(n50)\n",
    "    print(f'{d} --> 50')\n",
    "if amt>20:\n",
    "    n20=amt//20\n",
    "    amt=amt%20\n",
    "    e=int(n20)\n",
    "    print(f'{e} --> 20')\n",
    "if amt>=10:\n",
    "    n10=amt//10\n",
    "    amt=amt%10\n",
    "    f=int(n10)\n",
    "    print(f'{f} --> 10')"
   ]
  },
  {
   "cell_type": "code",
   "execution_count": null,
   "id": "e2d63e3e",
   "metadata": {},
   "outputs": [],
   "source": [
    "#Write a Python program to input angles of a triangle and check whether triangle is valid or not."
   ]
  },
  {
   "cell_type": "code",
   "execution_count": null,
   "id": "5cd19dc2",
   "metadata": {},
   "outputs": [],
   "source": [
    "a1=float(input(\"Enter 1st Angle of Triangle:\"))\n",
    "a2=float(input(\"Enter 2nd Angle of Triangle:\"))\n",
    "a3=float(input(\"Enter 3rd Angle of Triangle:\"))\n",
    "a=a1+a2+a3\n",
    "if a==180:\n",
    "    print('Valid Triangle')\n",
    "else:\n",
    "    print('Invalid Triangle.')"
   ]
  },
  {
   "cell_type": "code",
   "execution_count": null,
   "id": "9f28c1a2",
   "metadata": {},
   "outputs": [],
   "source": [
    "#Write a Python program to input all sides of a triangle and check whether triangle is valid or not."
   ]
  },
  {
   "cell_type": "code",
   "execution_count": 6,
   "id": "1e81ad78",
   "metadata": {},
   "outputs": [
    {
     "name": "stdout",
     "output_type": "stream",
     "text": [
      "Enter 1st Side of Triangle:3\n",
      "Enter 2nd Side of Triangle:3\n",
      "Enter 3rd Side of Triangle:10\n",
      "Invalid Triangle\n"
     ]
    }
   ],
   "source": [
    "a=float(input(\"Enter 1st Side of Triangle:\"))\n",
    "b=float(input(\"Enter 2nd Side of Triangle:\"))\n",
    "c=float(input(\"Enter 3rd Side of Triangle:\"))\n",
    "ab=a+b\n",
    "bc=b+c\n",
    "ac=a+c\n",
    "if ab>c and bc>a and ac>b:\n",
    "    print('Valid triangle')\n",
    "else:\n",
    "    print('Invalid Triangle')"
   ]
  },
  {
   "cell_type": "code",
   "execution_count": 7,
   "id": "d69cab30",
   "metadata": {},
   "outputs": [],
   "source": [
    "#Write a Python program to check whether the triangle is equilateral, isosceles or scalene triangle."
   ]
  },
  {
   "cell_type": "code",
   "execution_count": 8,
   "id": "10e70229",
   "metadata": {},
   "outputs": [
    {
     "name": "stdout",
     "output_type": "stream",
     "text": [
      "Enter 1st Side of Triangle:55\n",
      "Enter 2nd Side of Triangle:55\n",
      "Enter 3rd Side of Triangle:55\n",
      "Equilateral Triangle\n"
     ]
    }
   ],
   "source": [
    "a=float(input(\"Enter 1st Side of Triangle:\"))\n",
    "b=float(input(\"Enter 2nd Side of Triangle:\"))\n",
    "c=float(input(\"Enter 3rd Side of Triangle:\"))\n",
    "if a==b and b==c:\n",
    "    print('Equilateral Triangle')\n",
    "elif a==b or b==c or a==c:\n",
    "    print('Isosceles Triangle')\n",
    "else:\n",
    "    print('Scalence Triangle')"
   ]
  },
  {
   "cell_type": "code",
   "execution_count": 9,
   "id": "0803c56e",
   "metadata": {},
   "outputs": [],
   "source": [
    "#Write a Python program to find all roots of a quadratic equation."
   ]
  },
  {
   "cell_type": "code",
   "execution_count": null,
   "id": "0ea0a172",
   "metadata": {},
   "outputs": [],
   "source": [
    "\n",
    "a=float(input(\"Enter A:\"))\n",
    "b=float(input(\"Enter B:\"))\n",
    "c=float(input(\"Enter C:\"))\n",
    "d=(b*b)-(4*a*c)\n",
    "if d>0:\n",
    "    r1=(-b+(d**0.5))/(2*a)\n",
    "    r2=(-b-(d**0.5))/(2*a)\n",
    "    print(f'{r1},{r2}')\n",
    "elif d==0:\n",
    "    r1=(-b/(2*a))\n",
    "    print(f'{r1},{r1} both are equal')\n",
    "else:\n",
    "    print('Imaginary Root')"
   ]
  },
  {
   "cell_type": "code",
   "execution_count": null,
   "id": "38e7fc6d",
   "metadata": {},
   "outputs": [],
   "source": []
  },
  {
   "cell_type": "code",
   "execution_count": 2,
   "id": "7b77b444",
   "metadata": {},
   "outputs": [
    {
     "name": "stdout",
     "output_type": "stream",
     "text": [
      "['__abs__', '__add__', '__and__', '__bool__', '__ceil__', '__class__', '__delattr__', '__dir__', '__divmod__', '__doc__', '__eq__', '__float__', '__floor__', '__floordiv__', '__format__', '__ge__', '__getattribute__', '__getnewargs__', '__gt__', '__hash__', '__index__', '__init__', '__init_subclass__', '__int__', '__invert__', '__le__', '__lshift__', '__lt__', '__mod__', '__mul__', '__ne__', '__neg__', '__new__', '__or__', '__pos__', '__pow__', '__radd__', '__rand__', '__rdivmod__', '__reduce__', '__reduce_ex__', '__repr__', '__rfloordiv__', '__rlshift__', '__rmod__', '__rmul__', '__ror__', '__round__', '__rpow__', '__rrshift__', '__rshift__', '__rsub__', '__rtruediv__', '__rxor__', '__setattr__', '__sizeof__', '__str__', '__sub__', '__subclasshook__', '__truediv__', '__trunc__', '__xor__', 'as_integer_ratio', 'bit_count', 'bit_length', 'conjugate', 'denominator', 'from_bytes', 'imag', 'numerator', 'real', 'to_bytes']\n"
     ]
    }
   ],
   "source": [
    "print(dir(int))"
   ]
  },
  {
   "cell_type": "code",
   "execution_count": null,
   "id": "93e0655c",
   "metadata": {},
   "outputs": [],
   "source": []
  }
 ],
 "metadata": {
  "kernelspec": {
   "display_name": "Python 3 (ipykernel)",
   "language": "python",
   "name": "python3"
  },
  "language_info": {
   "codemirror_mode": {
    "name": "ipython",
    "version": 3
   },
   "file_extension": ".py",
   "mimetype": "text/x-python",
   "name": "python",
   "nbconvert_exporter": "python",
   "pygments_lexer": "ipython3",
   "version": "3.10.5"
  }
 },
 "nbformat": 4,
 "nbformat_minor": 5
}
