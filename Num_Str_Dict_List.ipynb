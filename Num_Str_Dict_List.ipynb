{
 "cells": [
  {
   "cell_type": "code",
   "execution_count": 4,
   "id": "1af6ca28",
   "metadata": {},
   "outputs": [
    {
     "name": "stdout",
     "output_type": "stream",
     "text": [
      "Hello World\n"
     ]
    }
   ],
   "source": [
    "print(\"Hello World\")"
   ]
  },
  {
   "cell_type": "code",
   "execution_count": 7,
   "id": "64900056",
   "metadata": {},
   "outputs": [],
   "source": [
    "# Data Types\n",
    "\n",
    "#     Number\n",
    "#     String\n",
    "#     List\n",
    "#     Tuple\n",
    "#     Set\n",
    "#     Dict"
   ]
  },
  {
   "cell_type": "code",
   "execution_count": null,
   "id": "5747441f",
   "metadata": {},
   "outputs": [],
   "source": [
    "#Numberr"
   ]
  },
  {
   "cell_type": "code",
   "execution_count": 8,
   "id": "fbb171c1",
   "metadata": {},
   "outputs": [
    {
     "name": "stdout",
     "output_type": "stream",
     "text": [
      "12\n"
     ]
    }
   ],
   "source": [
    "num1=12\n",
    "print(num1)"
   ]
  },
  {
   "cell_type": "code",
   "execution_count": 9,
   "id": "3d5b8dbd",
   "metadata": {},
   "outputs": [
    {
     "name": "stdout",
     "output_type": "stream",
     "text": [
      "<class 'int'>\n"
     ]
    }
   ],
   "source": [
    "print(type(num1))"
   ]
  },
  {
   "cell_type": "code",
   "execution_count": 10,
   "id": "2c58c91b",
   "metadata": {},
   "outputs": [
    {
     "name": "stdout",
     "output_type": "stream",
     "text": [
      "12.82\n"
     ]
    }
   ],
   "source": [
    "num2=12.82\n",
    "print(num2)"
   ]
  },
  {
   "cell_type": "code",
   "execution_count": 11,
   "id": "db35f42c",
   "metadata": {},
   "outputs": [
    {
     "name": "stdout",
     "output_type": "stream",
     "text": [
      "<class 'float'>\n"
     ]
    }
   ],
   "source": [
    "print(type(num2))"
   ]
  },
  {
   "cell_type": "code",
   "execution_count": 12,
   "id": "4258120f",
   "metadata": {},
   "outputs": [],
   "source": [
    "#String -->> '',\"\",''''''"
   ]
  },
  {
   "cell_type": "code",
   "execution_count": 13,
   "id": "0485e051",
   "metadata": {},
   "outputs": [
    {
     "name": "stdout",
     "output_type": "stream",
     "text": [
      "Priyank\n"
     ]
    }
   ],
   "source": [
    "s1='Priyank'\n",
    "print(s1)"
   ]
  },
  {
   "cell_type": "code",
   "execution_count": 14,
   "id": "12566f9f",
   "metadata": {},
   "outputs": [
    {
     "name": "stdout",
     "output_type": "stream",
     "text": [
      "Hello,\n",
      "I'm Priyank \n"
     ]
    }
   ],
   "source": [
    "s2='''Hello,\n",
    "I'm Priyank '''\n",
    "print(s2)"
   ]
  },
  {
   "cell_type": "code",
   "execution_count": 15,
   "id": "cc63539a",
   "metadata": {},
   "outputs": [],
   "source": [
    "#List -->[1,'ABC',\"43wsdft54\"]\n"
   ]
  },
  {
   "cell_type": "code",
   "execution_count": 16,
   "id": "082fb855",
   "metadata": {},
   "outputs": [
    {
     "name": "stdout",
     "output_type": "stream",
     "text": [
      "[1, 'Priyank', 'Hello']\n"
     ]
    }
   ],
   "source": [
    "l1=[1,'Priyank',\"Hello\"]\n",
    "print(l1)"
   ]
  },
  {
   "cell_type": "code",
   "execution_count": 17,
   "id": "16291506",
   "metadata": {},
   "outputs": [],
   "source": [
    "#tuple -->(1,'ABC',\"Xyz\")"
   ]
  },
  {
   "cell_type": "code",
   "execution_count": 18,
   "id": "4b4904ab",
   "metadata": {},
   "outputs": [
    {
     "name": "stdout",
     "output_type": "stream",
     "text": [
      "(1, 'Priyank', 'Shah')\n"
     ]
    }
   ],
   "source": [
    "t1=(1,'Priyank',\"Shah\")\n",
    "print(t1)"
   ]
  },
  {
   "cell_type": "code",
   "execution_count": 19,
   "id": "e81ca022",
   "metadata": {},
   "outputs": [],
   "source": [
    "#Set  --> print in random order\n"
   ]
  },
  {
   "cell_type": "code",
   "execution_count": 20,
   "id": "1de65fd8",
   "metadata": {},
   "outputs": [
    {
     "name": "stdout",
     "output_type": "stream",
     "text": [
      "{1, 'Priyank', 'Hello'}\n"
     ]
    }
   ],
   "source": [
    "set1={1,'Priyank',\"Hello\"}\n",
    "print(set1)"
   ]
  },
  {
   "cell_type": "code",
   "execution_count": 21,
   "id": "79032b4c",
   "metadata": {},
   "outputs": [],
   "source": [
    "#Dictonary  -->{key:value,key1:value1}"
   ]
  },
  {
   "cell_type": "code",
   "execution_count": 22,
   "id": "8c6f69ac",
   "metadata": {},
   "outputs": [
    {
     "name": "stdout",
     "output_type": "stream",
     "text": [
      "{'Name': 'Priyank', 'Age': 20, 'DOB': '12/08/2002', 'Mobile': 9426919885}\n"
     ]
    }
   ],
   "source": [
    "d1={'Name':'Priyank','Age':20,'DOB':'12/08/2002','Mobile':9426919885}\n",
    "print(d1)"
   ]
  },
  {
   "cell_type": "code",
   "execution_count": 23,
   "id": "cc0370fe",
   "metadata": {},
   "outputs": [
    {
     "name": "stdout",
     "output_type": "stream",
     "text": [
      "Priyank\n"
     ]
    }
   ],
   "source": [
    "print(d1['Name'])"
   ]
  },
  {
   "cell_type": "code",
   "execution_count": 26,
   "id": "62f7682e",
   "metadata": {},
   "outputs": [
    {
     "name": "stdout",
     "output_type": "stream",
     "text": [
      "<class 'dict'>\n"
     ]
    }
   ],
   "source": [
    "print(type(d1))"
   ]
  },
  {
   "cell_type": "code",
   "execution_count": null,
   "id": "1805270d",
   "metadata": {},
   "outputs": [],
   "source": []
  }
 ],
 "metadata": {
  "kernelspec": {
   "display_name": "Python 3 (ipykernel)",
   "language": "python",
   "name": "python3"
  },
  "language_info": {
   "codemirror_mode": {
    "name": "ipython",
    "version": 3
   },
   "file_extension": ".py",
   "mimetype": "text/x-python",
   "name": "python",
   "nbconvert_exporter": "python",
   "pygments_lexer": "ipython3",
   "version": "3.10.5"
  }
 },
 "nbformat": 4,
 "nbformat_minor": 5
}
