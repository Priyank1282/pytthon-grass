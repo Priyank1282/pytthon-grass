{
 "cells": [
  {
   "cell_type": "code",
   "execution_count": 1,
   "id": "1aedae97",
   "metadata": {},
   "outputs": [],
   "source": [
    "#123--->1+2+3=6\n",
    "#444--->4*4*4=64"
   ]
  },
  {
   "cell_type": "code",
   "execution_count": 10,
   "id": "e3b63f0a",
   "metadata": {},
   "outputs": [
    {
     "name": "stdout",
     "output_type": "stream",
     "text": [
      "Enter Number:123\n",
      "6\n"
     ]
    }
   ],
   "source": [
    "#123--->1+2+3=6\n",
    "n=int(input('Enter Number:'))\n",
    "a=0\n",
    "sum1=0\n",
    "while n>0:\n",
    "    a=n%10\n",
    "    n=n//10\n",
    "    sum1=sum1+a\n",
    "print(sum1)"
   ]
  },
  {
   "cell_type": "code",
   "execution_count": 12,
   "id": "7ea23f87",
   "metadata": {},
   "outputs": [
    {
     "name": "stdout",
     "output_type": "stream",
     "text": [
      "Enter Number:444\n",
      "64\n"
     ]
    }
   ],
   "source": [
    "#444--->4*4*4=64\n",
    "n=int(input('Enter Number:'))\n",
    "a=0\n",
    "mul=1\n",
    "while n>0:\n",
    "    a=n%10\n",
    "    n=n//10\n",
    "    mul=mul*a\n",
    "print(mul)"
   ]
  },
  {
   "cell_type": "code",
   "execution_count": 22,
   "id": "7e547397",
   "metadata": {},
   "outputs": [
    {
     "name": "stdout",
     "output_type": "stream",
     "text": [
      "Enter Number:343245\n",
      "343245 is not Armstrong Number\n"
     ]
    }
   ],
   "source": [
    "#Armstrong Number\n",
    "n=int(input('Enter Number:'))\n",
    "b=n\n",
    "a=0\n",
    "sum1=0\n",
    "while n>0:\n",
    "    a=n%10\n",
    "    n=n//10\n",
    "    a=a**3\n",
    "    sum1=sum1+a\n",
    "if sum1==b:\n",
    "    print(f'{b} is Armstrong Number')\n",
    "else:\n",
    "    print(f'{b} is not Armstrong Number')"
   ]
  }
 ],
 "metadata": {
  "kernelspec": {
   "display_name": "Python 3 (ipykernel)",
   "language": "python",
   "name": "python3"
  },
  "language_info": {
   "codemirror_mode": {
    "name": "ipython",
    "version": 3
   },
   "file_extension": ".py",
   "mimetype": "text/x-python",
   "name": "python",
   "nbconvert_exporter": "python",
   "pygments_lexer": "ipython3",
   "version": "3.10.5"
  }
 },
 "nbformat": 4,
 "nbformat_minor": 5
}
