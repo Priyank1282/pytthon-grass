{
 "cells": [
  {
   "cell_type": "code",
   "execution_count": null,
   "id": "7d0b28bd",
   "metadata": {},
   "outputs": [],
   "source": [
    "#A\n",
    "*****\n",
    "*   *\n",
    "*****\n",
    "*   *"
   ]
  },
  {
   "cell_type": "code",
   "execution_count": 9,
   "id": "0f662f30",
   "metadata": {},
   "outputs": [
    {
     "name": "stdout",
     "output_type": "stream",
     "text": [
      "***** \n",
      "*   * \n",
      "***** \n",
      "*   * \n"
     ]
    }
   ],
   "source": [
    "for i in range(4):\n",
    "    for j in range(5):\n",
    "        if i==0 or i==2 or (i==1 and j==0) or (i==1 and j==4) or (i==3 and j==0) or (i==3 and j==4):\n",
    "            print('*',end='')\n",
    "        else:\n",
    "            print('',end=' ')\n",
    "    print(' ')"
   ]
  },
  {
   "cell_type": "code",
   "execution_count": 10,
   "id": "306dad14",
   "metadata": {},
   "outputs": [],
   "source": [
    "#B\n",
    "*****\n",
    "*   *\n",
    "*****\n",
    "*   *\n",
    "*****"
   ]
  },
  {
   "cell_type": "code",
   "execution_count": 17,
   "id": "62b36879",
   "metadata": {},
   "outputs": [
    {
     "name": "stdout",
     "output_type": "stream",
     "text": [
      "*****\n",
      "*   *\n",
      "*****\n",
      "*   *\n",
      "*****\n"
     ]
    }
   ],
   "source": [
    "for i in range(5):\n",
    "    for j in range(5):\n",
    "        if i==0 or i==2 or i==4 or (i==1 and j==0) or (i==1 and j==4) or (i==3 and j==0) or (i==3 and j==4):\n",
    "            print('*',end='')\n",
    "        else:\n",
    "            print('',end=' ')\n",
    "    print()"
   ]
  },
  {
   "cell_type": "code",
   "execution_count": null,
   "id": "684a9eaf",
   "metadata": {},
   "outputs": [],
   "source": [
    "#C\n",
    "*****\n",
    "*\n",
    "*\n",
    "*\n",
    "*****"
   ]
  },
  {
   "cell_type": "code",
   "execution_count": 18,
   "id": "aeb95b18",
   "metadata": {},
   "outputs": [
    {
     "name": "stdout",
     "output_type": "stream",
     "text": [
      "*****\n",
      "*    \n",
      "*    \n",
      "*    \n",
      "*****\n"
     ]
    }
   ],
   "source": [
    "for i in range(5):\n",
    "    for j in range(5):\n",
    "        if i==0 or i==4 or j==0:\n",
    "            print('*',end='')\n",
    "        else:\n",
    "            print('',end=' ')\n",
    "    print()"
   ]
  },
  {
   "cell_type": "code",
   "execution_count": 19,
   "id": "a4dcf0dc",
   "metadata": {},
   "outputs": [],
   "source": [
    "#D\n"
   ]
  },
  {
   "cell_type": "code",
   "execution_count": 32,
   "id": "4b25029b",
   "metadata": {},
   "outputs": [
    {
     "name": "stdout",
     "output_type": "stream",
     "text": [
      "**** \n",
      "*   *\n",
      "*   *\n",
      "*   *\n",
      "**** \n"
     ]
    }
   ],
   "source": [
    "for i in range(5):\n",
    "    for j in range(5):\n",
    "        if (i==0 and j<4) or (i==4 and j<4) or j==0 or (j==4 and i==1) or (j==4 and i==2) or (j==4 and i==3) :\n",
    "            print('*',end='')\n",
    "        else:\n",
    "            print('',end=' ')\n",
    "    print()"
   ]
  },
  {
   "cell_type": "code",
   "execution_count": 33,
   "id": "1aa0a678",
   "metadata": {},
   "outputs": [],
   "source": [
    "#E"
   ]
  },
  {
   "cell_type": "code",
   "execution_count": 34,
   "id": "709e8080",
   "metadata": {},
   "outputs": [
    {
     "name": "stdout",
     "output_type": "stream",
     "text": [
      "*****\n",
      "*    \n",
      "*****\n",
      "*    \n",
      "*****\n"
     ]
    }
   ],
   "source": [
    "for i in range(5):\n",
    "    for j in range(5):\n",
    "        if i==0 or i==2 or i==4 or (i==1 and j==0) or (i==3 and j==0):\n",
    "            print('*',end='')\n",
    "        else:\n",
    "            print('',end=' ')\n",
    "    print()"
   ]
  },
  {
   "cell_type": "code",
   "execution_count": 35,
   "id": "5cf6c646",
   "metadata": {},
   "outputs": [],
   "source": [
    "#F"
   ]
  },
  {
   "cell_type": "code",
   "execution_count": 37,
   "id": "b40c3688",
   "metadata": {},
   "outputs": [
    {
     "name": "stdout",
     "output_type": "stream",
     "text": [
      "*****\n",
      "*    \n",
      "*****\n",
      "*    \n",
      "*    \n"
     ]
    }
   ],
   "source": [
    "for i in range(5):\n",
    "    for j in range(5):\n",
    "        if i==0 or i==2 or (i==4 and j==0) or (i==1 and j==0) or (i==3 and j==0):\n",
    "            print('*',end='')\n",
    "        else:\n",
    "            print('',end=' ')\n",
    "    print()"
   ]
  },
  {
   "cell_type": "code",
   "execution_count": null,
   "id": "63043722",
   "metadata": {},
   "outputs": [],
   "source": [
    "#G\n",
    "*****\n",
    "*\n",
    "*  **\n",
    "*   *\n",
    "*****"
   ]
  },
  {
   "cell_type": "code",
   "execution_count": 39,
   "id": "60b9f7a4",
   "metadata": {},
   "outputs": [
    {
     "name": "stdout",
     "output_type": "stream",
     "text": [
      "*****\n",
      "*    \n",
      "*  **\n",
      "*   *\n",
      "*****\n"
     ]
    }
   ],
   "source": [
    "for i in range(5):\n",
    "    for j in range(5):\n",
    "        if i==0 or i==4 or (i==1 and j==0) or (i==2 and j==0)or  (i==2 and j==3) or (i==2 and j==4) or (i==3 and j==0) or (i==3 and j==4):\n",
    "            print('*',end='')\n",
    "        else:\n",
    "            print('',end=' ')\n",
    "    print()"
   ]
  },
  {
   "cell_type": "code",
   "execution_count": 40,
   "id": "25732826",
   "metadata": {},
   "outputs": [],
   "source": [
    "#H"
   ]
  },
  {
   "cell_type": "code",
   "execution_count": 46,
   "id": "d600737f",
   "metadata": {},
   "outputs": [
    {
     "name": "stdout",
     "output_type": "stream",
     "text": [
      "*  *\n",
      "*  *\n",
      "****\n",
      "*  *\n",
      "*  *\n"
     ]
    }
   ],
   "source": [
    "for i in range(5):\n",
    "    for j in range(4):\n",
    "        if j==0 or j==3 or (i==2 and j==1) or (i==2 and j==2):\n",
    "            print('*',end='')\n",
    "        else:\n",
    "            print('',end=' ')\n",
    "    print()"
   ]
  },
  {
   "cell_type": "code",
   "execution_count": 47,
   "id": "8d5c4489",
   "metadata": {},
   "outputs": [],
   "source": [
    "#I"
   ]
  },
  {
   "cell_type": "code",
   "execution_count": 48,
   "id": "411bd79e",
   "metadata": {},
   "outputs": [
    {
     "name": "stdout",
     "output_type": "stream",
     "text": [
      "*****\n",
      "  *  \n",
      "  *  \n",
      "  *  \n",
      "*****\n"
     ]
    }
   ],
   "source": [
    "for i in range(5):\n",
    "    for j in range(5):\n",
    "        if i==0 or i==4 or (i==1 and j==2)or (i==2 and j==2) or (i==3 and j==2):\n",
    "            print('*',end='')\n",
    "        else:\n",
    "            print('',end=' ')\n",
    "    print()"
   ]
  },
  {
   "cell_type": "code",
   "execution_count": 49,
   "id": "d83448c0",
   "metadata": {},
   "outputs": [],
   "source": [
    "#J"
   ]
  },
  {
   "cell_type": "code",
   "execution_count": null,
   "id": "e848bd55",
   "metadata": {},
   "outputs": [],
   "source": [
    "  ***\n",
    "    *\n",
    "    *\n",
    "*   *\n",
    "*****"
   ]
  },
  {
   "cell_type": "code",
   "execution_count": 51,
   "id": "720a22ee",
   "metadata": {},
   "outputs": [
    {
     "name": "stdout",
     "output_type": "stream",
     "text": [
      "  ***\n",
      "    *\n",
      "    *\n",
      "*   *\n",
      "*****\n"
     ]
    }
   ],
   "source": [
    "for i in range(5):\n",
    "    for j in range(5):\n",
    "        if (i==0 and j>=2) or (i==1 and j==4) or (i==2 and j==4) or (i==3 and j==0) or (i==3 and j==4) or i==4:\n",
    "            print('*',end='')\n",
    "        else:\n",
    "            print('',end=' ')\n",
    "    print()"
   ]
  },
  {
   "cell_type": "code",
   "execution_count": 52,
   "id": "9d0e09d9",
   "metadata": {},
   "outputs": [],
   "source": [
    "#K"
   ]
  },
  {
   "cell_type": "code",
   "execution_count": null,
   "id": "69658be6",
   "metadata": {},
   "outputs": [],
   "source": [
    "*  *\n",
    "* *\n",
    "**\n",
    "* *\n",
    "*  *"
   ]
  },
  {
   "cell_type": "code",
   "execution_count": 54,
   "id": "d76ff903",
   "metadata": {},
   "outputs": [
    {
     "name": "stdout",
     "output_type": "stream",
     "text": [
      "*  * \n",
      "* *  \n",
      "**   \n",
      "* *  \n",
      "*  * \n"
     ]
    }
   ],
   "source": [
    "for i in range(5):\n",
    "    for j in range(5):\n",
    "        if j==0 or (j==1 and i==2) or (j==2 and i==1) or (j==2 and i==3) or (j==3 and i==0) or (j==3 and i==4):\n",
    "            print('*',end='')\n",
    "        else:\n",
    "            print('',end=' ')\n",
    "    print()"
   ]
  },
  {
   "cell_type": "code",
   "execution_count": 55,
   "id": "9fff6cd1",
   "metadata": {},
   "outputs": [],
   "source": [
    "#L"
   ]
  },
  {
   "cell_type": "code",
   "execution_count": 58,
   "id": "7bc5f687",
   "metadata": {},
   "outputs": [
    {
     "name": "stdout",
     "output_type": "stream",
     "text": [
      "*     \n",
      "*     \n",
      "*     \n",
      "*     \n",
      "* * *   \n"
     ]
    }
   ],
   "source": [
    "for i in range(5):\n",
    "    for j in range(5):\n",
    "        if j==0 or (j==1 and i==4) or (j==2 and i==4) or (j==2 and i==4):\n",
    "            print('*',end=' ')\n",
    "        else:\n",
    "            print('',end=' ')\n",
    "    print()"
   ]
  },
  {
   "cell_type": "code",
   "execution_count": 59,
   "id": "0d315d17",
   "metadata": {},
   "outputs": [],
   "source": [
    "#M\n"
   ]
  },
  {
   "cell_type": "code",
   "execution_count": 60,
   "id": "483a94d4",
   "metadata": {},
   "outputs": [
    {
     "name": "stdout",
     "output_type": "stream",
     "text": [
      "*       * \n",
      "* *   * * \n",
      "*   *   * \n",
      "*       * \n",
      "*       * \n"
     ]
    }
   ],
   "source": [
    "for i in range(5):\n",
    "    for j in range(5):\n",
    "        if j==0 or j==4 or(i==1 and j==1) or (i==1 and  j==3) or (i==2 and j==2):\n",
    "            print('*',end=' ')\n",
    "        else:\n",
    "            print(' ',end=' ')\n",
    "    print()"
   ]
  },
  {
   "cell_type": "code",
   "execution_count": null,
   "id": "6a6ef28a",
   "metadata": {},
   "outputs": [],
   "source": [
    "#N"
   ]
  },
  {
   "cell_type": "code",
   "execution_count": 62,
   "id": "bf619509",
   "metadata": {},
   "outputs": [
    {
     "name": "stdout",
     "output_type": "stream",
     "text": [
      "*       * \n",
      "* *     * \n",
      "*   *   * \n",
      "*     * * \n",
      "*       * \n"
     ]
    }
   ],
   "source": [
    "for i in range(5):\n",
    "    for j in range(5):\n",
    "        if j==0 or j==4 or(i==1 and j==1)  or (i==3 and j==3) or (i==4 and j==4) or (i==2 and j==2):\n",
    "            print('*',end=' ')\n",
    "        else:\n",
    "            print(' ',end=' ')\n",
    "    print()"
   ]
  },
  {
   "cell_type": "code",
   "execution_count": 63,
   "id": "36412d5c",
   "metadata": {},
   "outputs": [],
   "source": [
    "#O"
   ]
  },
  {
   "cell_type": "code",
   "execution_count": 65,
   "id": "87452ca1",
   "metadata": {},
   "outputs": [
    {
     "name": "stdout",
     "output_type": "stream",
     "text": [
      "* * * * * \n",
      "*       * \n",
      "*       * \n",
      "*       * \n",
      "* * * * * \n"
     ]
    }
   ],
   "source": [
    "for i in range(5):\n",
    "    for j in range(5):\n",
    "        if i==0 or i==4 or (i==1 and j==0) or (i==1 and j==4) or (i==2 and j==0) or (i==2 and j==4)or (i==3 and j==0) or (i==3 and j==4):\n",
    "            print('*',end=' ')\n",
    "        else:\n",
    "            print(' ',end=' ')\n",
    "    print()"
   ]
  },
  {
   "cell_type": "code",
   "execution_count": 66,
   "id": "d34789cc",
   "metadata": {},
   "outputs": [],
   "source": [
    "#P"
   ]
  },
  {
   "cell_type": "code",
   "execution_count": 67,
   "id": "b93a82a9",
   "metadata": {},
   "outputs": [
    {
     "name": "stdout",
     "output_type": "stream",
     "text": [
      "**** \n",
      "*   *\n",
      "**** \n",
      "*    \n",
      "*    \n"
     ]
    }
   ],
   "source": [
    "for i in range(5):\n",
    "    for j in range(5):\n",
    "        if (i==0 and j<4) or (i==2 and j<4) or j==0 or (j==4 and i==1):\n",
    "            print('*',end='')\n",
    "        else:\n",
    "            print(' ',end='')\n",
    "    print()"
   ]
  },
  {
   "cell_type": "code",
   "execution_count": 68,
   "id": "881c1630",
   "metadata": {},
   "outputs": [],
   "source": [
    "#Q"
   ]
  },
  {
   "cell_type": "code",
   "execution_count": null,
   "id": "e9ad3d60",
   "metadata": {},
   "outputs": [],
   "source": [
    " *** \n",
    "*   *\n",
    "*   *\n",
    "*   *\n",
    "*   *\n",
    "*   *\n",
    " ****\n",
    "     *"
   ]
  },
  {
   "cell_type": "code",
   "execution_count": 11,
   "id": "b32f2a77",
   "metadata": {},
   "outputs": [
    {
     "name": "stdout",
     "output_type": "stream",
     "text": [
      " **** \n",
      "*   * \n",
      "*   * \n",
      "*   * \n",
      "*   * \n",
      "***** \n",
      "     *\n"
     ]
    }
   ],
   "source": [
    "for i in range(7):\n",
    "    for j in range(6):\n",
    "        if (i==0 and 0<j<4)or (j==0 and 0<i<5) or (j==4 and i<6) or (i==5 and j<5) or (i==6 and j==5) :\n",
    "            print('*',end='')\n",
    "        else:\n",
    "            print(' ',end='')\n",
    "    print()"
   ]
  },
  {
   "cell_type": "code",
   "execution_count": null,
   "id": "ac0eea75",
   "metadata": {},
   "outputs": [],
   "source": [
    "#R"
   ]
  },
  {
   "cell_type": "code",
   "execution_count": 45,
   "id": "da76b89c",
   "metadata": {},
   "outputs": [
    {
     "name": "stdout",
     "output_type": "stream",
     "text": [
      "**** \n",
      "*   *\n",
      "*   *\n",
      "**** \n",
      "**   \n",
      "* *  \n",
      "*  * \n"
     ]
    }
   ],
   "source": [
    "for i in range(7):\n",
    "    for j in range(5):\n",
    "        if (i==0 and j<4) or (i==1 and j==0) or (i==1 and j==4)or  (i==2 and j==0) or (i==2 and j==4) or (i==3 and j<4) or (i==4 and j==0) or (i==5 and j==0) or (i==6 and j==0) or (i==4 and j==1)or (i==5 and j==2) or (i==6 and j==3):\n",
    "            print('*',end='')\n",
    "        else:\n",
    "            print(' ',end='')\n",
    "    print()"
   ]
  },
  {
   "cell_type": "code",
   "execution_count": 39,
   "id": "172dc0ef",
   "metadata": {},
   "outputs": [],
   "source": [
    "#S"
   ]
  },
  {
   "cell_type": "code",
   "execution_count": 50,
   "id": "e1ec9fc5",
   "metadata": {},
   "outputs": [
    {
     "name": "stdout",
     "output_type": "stream",
     "text": [
      "*****\n",
      "*    \n",
      "*****\n",
      "    *\n",
      "*****\n"
     ]
    }
   ],
   "source": [
    "for i in range(5):\n",
    "    for j in range(5):\n",
    "        if i==0 or (i==1 and j==0) or i==2 or (i==3 and j==4) or i==4:\n",
    "            print('*',end='')\n",
    "        else:\n",
    "            print(' ',end='')\n",
    "    print()"
   ]
  },
  {
   "cell_type": "code",
   "execution_count": 51,
   "id": "08997922",
   "metadata": {},
   "outputs": [],
   "source": [
    "#T"
   ]
  },
  {
   "cell_type": "code",
   "execution_count": 54,
   "id": "e9bbef6d",
   "metadata": {},
   "outputs": [
    {
     "name": "stdout",
     "output_type": "stream",
     "text": [
      "*****\n",
      "  *  \n",
      "  *  \n",
      "  *  \n",
      "     \n"
     ]
    }
   ],
   "source": [
    "for i in range(5):\n",
    "    for j in range(5):\n",
    "        if i==0 or (i==1 and j==2) or (i==2 and j==2) or (i==3 and j==2) :\n",
    "            print('*',end='')\n",
    "        else:\n",
    "            print(' ',end='')\n",
    "    print()"
   ]
  },
  {
   "cell_type": "code",
   "execution_count": 55,
   "id": "966d1b8c",
   "metadata": {},
   "outputs": [],
   "source": [
    "#U"
   ]
  },
  {
   "cell_type": "code",
   "execution_count": 63,
   "id": "8545a2f7",
   "metadata": {},
   "outputs": [
    {
     "name": "stdout",
     "output_type": "stream",
     "text": [
      "*   *\n",
      "*   *\n",
      "*   *\n",
      "*****\n",
      "     \n"
     ]
    }
   ],
   "source": [
    "for i in range(5):\n",
    "    for j in range(5):\n",
    "        if i==3 or (i==0 and j==0) or (i==0  and  j==4) or (i==1 and j==0) or (i==1 and j==4) or (i==2 and j==0) or (i==2 and j==4) :\n",
    "            print('*',end='')\n",
    "        else:\n",
    "            print(' ',end='')\n",
    "    print()"
   ]
  },
  {
   "cell_type": "code",
   "execution_count": 56,
   "id": "1cf2a733",
   "metadata": {},
   "outputs": [],
   "source": [
    "#V"
   ]
  },
  {
   "cell_type": "code",
   "execution_count": 70,
   "id": "aa5efbed",
   "metadata": {},
   "outputs": [
    {
     "name": "stdout",
     "output_type": "stream",
     "text": [
      "*       * \n",
      "  *   *   \n",
      "    *     \n",
      "          \n",
      "          \n"
     ]
    }
   ],
   "source": [
    "for i in range(5):\n",
    "    for j in range(5):\n",
    "        if (i==0 and j==0) or (i==0 and j==4) or (i==1 and j==1) or (i==1 and j==3) or (i==2 and j==2) :\n",
    "            print('*',end=' ')\n",
    "        else:\n",
    "            print(' ',end=' ')\n",
    "    print()"
   ]
  },
  {
   "cell_type": "code",
   "execution_count": 57,
   "id": "210dcf29",
   "metadata": {},
   "outputs": [],
   "source": [
    "#W"
   ]
  },
  {
   "cell_type": "code",
   "execution_count": 73,
   "id": "430ef73e",
   "metadata": {},
   "outputs": [
    {
     "name": "stdout",
     "output_type": "stream",
     "text": [
      "*       * \n",
      "*       * \n",
      "*   *   * \n",
      "* *   * * \n",
      "*       * \n"
     ]
    }
   ],
   "source": [
    "for i in range(5):\n",
    "    for j in range(5):\n",
    "        if j==0 or j==4 or(i==3 and j==3) or (i==3 and  j==1) or (i==2 and j==2):\n",
    "            print('*',end=' ')\n",
    "        else:\n",
    "            print(' ',end=' ')\n",
    "    print()"
   ]
  },
  {
   "cell_type": "code",
   "execution_count": 58,
   "id": "dd9ab0f4",
   "metadata": {},
   "outputs": [],
   "source": [
    "#X"
   ]
  },
  {
   "cell_type": "code",
   "execution_count": 81,
   "id": "87ede8d5",
   "metadata": {},
   "outputs": [
    {
     "name": "stdout",
     "output_type": "stream",
     "text": [
      "*   *\n",
      " * * \n",
      "  *  \n",
      " * * \n",
      "*   *\n"
     ]
    }
   ],
   "source": [
    "for i in range(5):\n",
    "    for j in range(5):\n",
    "        if (i==0 and j==0) or (i==0 and j==4) or (i==1 and j==1) or (i==1 and j==3) or (i==2 and j==2) or (i==3 and j==1) or (i==3 and j==3) or (i==4 and j==0) or (i==4 and j==4) :\n",
    "            print('*',end='')\n",
    "        else:\n",
    "            print(' ',end='')\n",
    "    print()"
   ]
  },
  {
   "cell_type": "code",
   "execution_count": 59,
   "id": "44e1c50b",
   "metadata": {},
   "outputs": [],
   "source": [
    "#Y"
   ]
  },
  {
   "cell_type": "code",
   "execution_count": 82,
   "id": "ba6ce009",
   "metadata": {},
   "outputs": [
    {
     "name": "stdout",
     "output_type": "stream",
     "text": [
      "*       * \n",
      "  *   *   \n",
      "    *     \n",
      "    *     \n",
      "    *     \n"
     ]
    }
   ],
   "source": [
    "for i in range(5):\n",
    "    for j in range(5):\n",
    "        if (i==0 and j==0) or (i==0 and j==4) or (i==1 and j==1) or (i==1 and j==3) or (i==2 and j==2) or (i==3 and j==2) or (i==4 and j==2):\n",
    "            print('*',end=' ')\n",
    "        else:\n",
    "            print(' ',end=' ')\n",
    "    print()"
   ]
  },
  {
   "cell_type": "code",
   "execution_count": 83,
   "id": "119df91c",
   "metadata": {},
   "outputs": [],
   "source": [
    "#Z"
   ]
  },
  {
   "cell_type": "code",
   "execution_count": 87,
   "id": "eb558bef",
   "metadata": {},
   "outputs": [
    {
     "name": "stdout",
     "output_type": "stream",
     "text": [
      "*****\n",
      "   * \n",
      "  *  \n",
      " *   \n",
      "*****\n"
     ]
    }
   ],
   "source": [
    "for i in range(5):\n",
    "    for j in range(5):\n",
    "        if i==0 or i==4 or (i==1 and j==3) or (i==2 and j==2) or (i==3 and j==1) :\n",
    "            print('*',end='')\n",
    "        else:\n",
    "            print(' ',end='')\n",
    "    print()"
   ]
  },
  {
   "cell_type": "code",
   "execution_count": null,
   "id": "5109b99d",
   "metadata": {},
   "outputs": [],
   "source": []
  }
 ],
 "metadata": {
  "kernelspec": {
   "display_name": "Python 3 (ipykernel)",
   "language": "python",
   "name": "python3"
  },
  "language_info": {
   "codemirror_mode": {
    "name": "ipython",
    "version": 3
   },
   "file_extension": ".py",
   "mimetype": "text/x-python",
   "name": "python",
   "nbconvert_exporter": "python",
   "pygments_lexer": "ipython3",
   "version": "3.10.5"
  }
 },
 "nbformat": 4,
 "nbformat_minor": 5
}
