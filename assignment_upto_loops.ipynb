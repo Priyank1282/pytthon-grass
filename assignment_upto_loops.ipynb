{
 "cells": [
  {
   "cell_type": "code",
   "execution_count": 1,
   "id": "9622ab3f",
   "metadata": {},
   "outputs": [],
   "source": [
    "#Program to find quotient and remainder "
   ]
  },
  {
   "cell_type": "code",
   "execution_count": 2,
   "id": "f5c141a7",
   "metadata": {},
   "outputs": [
    {
     "name": "stdout",
     "output_type": "stream",
     "text": [
      "Enter Dividend:10\n",
      "Enter Divisor:3\n",
      "Quotient:- 3\n",
      "Remainder:- 1\n"
     ]
    }
   ],
   "source": [
    "dividend=int(input(\"Enter Dividend:\"))\n",
    "divisor=int(input('Enter Divisor:'))\n",
    "quotient=dividend//divisor\n",
    "remainder=dividend%divisor\n",
    "print('Quotient:-',quotient)\n",
    "print('Remainder:-',remainder)"
   ]
  },
  {
   "cell_type": "code",
   "execution_count": 4,
   "id": "9de8cadb",
   "metadata": {},
   "outputs": [],
   "source": [
    "#Program to print the sum of digits of any number"
   ]
  },
  {
   "cell_type": "code",
   "execution_count": 6,
   "id": "ae0eabc4",
   "metadata": {},
   "outputs": [
    {
     "name": "stdout",
     "output_type": "stream",
     "text": [
      "Enter Number:111\n",
      "Sum of Digits of 111 is  3\n"
     ]
    }
   ],
   "source": [
    "n=int(input('Enter Number:'))\n",
    "b=n\n",
    "sum=0\n",
    "while n>0:\n",
    "    a=n%10\n",
    "    n=n//10\n",
    "    sum = sum+a\n",
    "print(f'Sum of Digits of {b} is ',sum)"
   ]
  },
  {
   "cell_type": "code",
   "execution_count": 7,
   "id": "f62ef86e",
   "metadata": {},
   "outputs": [],
   "source": [
    "#Program to print product of digits of any number"
   ]
  },
  {
   "cell_type": "code",
   "execution_count": 8,
   "id": "8fc616f3",
   "metadata": {},
   "outputs": [
    {
     "name": "stdout",
     "output_type": "stream",
     "text": [
      "Enter Number:123\n",
      "Multiplication of Digits of 123 is  6\n"
     ]
    }
   ],
   "source": [
    "n=int(input('Enter Number:'))\n",
    "b=n\n",
    "mul=1\n",
    "while n>0:\n",
    "    a=n%10\n",
    "    n=n//10\n",
    "    mul = mul*a\n",
    "print(f'Multiplication of Digits of {b} is ',mul)"
   ]
  },
  {
   "cell_type": "code",
   "execution_count": 9,
   "id": "1597da6c",
   "metadata": {},
   "outputs": [],
   "source": [
    "#Program to convert a binary number to a decimal number"
   ]
  },
  {
   "cell_type": "code",
   "execution_count": null,
   "id": "9400759f",
   "metadata": {},
   "outputs": [],
   "source": []
  },
  {
   "cell_type": "code",
   "execution_count": 10,
   "id": "dd507a63",
   "metadata": {},
   "outputs": [],
   "source": [
    "#Program to find the sum of numbers entered"
   ]
  },
  {
   "cell_type": "code",
   "execution_count": 17,
   "id": "a50651ac",
   "metadata": {},
   "outputs": [
    {
     "name": "stdout",
     "output_type": "stream",
     "text": [
      "Enter Number:5\n",
      "Enter Number:7\n",
      "Enter Number:9\n",
      "Enter Number:6\n",
      "Enter Number:3\n",
      "Enter Number:0\n",
      "Sum of Entered Numbers is - 30\n"
     ]
    }
   ],
   "source": [
    "sum=0\n",
    "n=1\n",
    "while True:\n",
    "    n=int(input('Enter Number:'))\n",
    "    if n==0:\n",
    "        break\n",
    "    sum = sum + n\n",
    "    n=0\n",
    "print('Sum of Entered Numbers is -',sum)"
   ]
  },
  {
   "cell_type": "code",
   "execution_count": null,
   "id": "dce56ee1",
   "metadata": {},
   "outputs": [],
   "source": [
    "#Multiply two positive numbers without using  * operator"
   ]
  },
  {
   "cell_type": "code",
   "execution_count": 8,
   "id": "e109efd9",
   "metadata": {},
   "outputs": [
    {
     "name": "stdout",
     "output_type": "stream",
     "text": [
      "Enter 1st Number:2\n",
      "Enter 2nd Number:2\n",
      "4\n"
     ]
    }
   ],
   "source": [
    "n1=int(input('Enter 1st Number:'))\n",
    "n2=int(input('Enter 2nd Number:'))\n",
    "n=1\n",
    "sum1=0\n",
    "while n<=n2:\n",
    "    sum1= sum1 + n1\n",
    "    n+=1\n",
    "print(sum1)"
   ]
  },
  {
   "cell_type": "code",
   "execution_count": 7,
   "id": "dd7a60d6",
   "metadata": {},
   "outputs": [],
   "source": [
    "#Find the sum of this series up to n terms – 1 + 2 + 4 + 7 + 11 + 16 +                         "
   ]
  },
  {
   "cell_type": "code",
   "execution_count": 11,
   "id": "8bc4d444",
   "metadata": {},
   "outputs": [
    {
     "name": "stdout",
     "output_type": "stream",
     "text": [
      "Enter N:9\n",
      "1\n",
      "2\n",
      "4\n",
      "7\n",
      "11\n",
      "16\n",
      "22\n",
      "29\n"
     ]
    }
   ],
   "source": [
    "n=int(input('Enter N:'))\n",
    "s=1\n",
    "for i in range(1,n):\n",
    "    print(s)\n",
    "    s+=i"
   ]
  },
  {
   "cell_type": "code",
   "execution_count": 12,
   "id": "f4800f48",
   "metadata": {},
   "outputs": [],
   "source": [
    "#Program to generate Fibonacci series"
   ]
  },
  {
   "cell_type": "code",
   "execution_count": 1,
   "id": "79e7a987",
   "metadata": {},
   "outputs": [
    {
     "name": "stdout",
     "output_type": "stream",
     "text": [
      "How many terms? 5\n",
      "Fibonacci sequence:\n",
      "0\n",
      "1\n",
      "1\n",
      "2\n",
      "3\n"
     ]
    }
   ],
   "source": [
    "n= int(input(\"How many terms? \"))\n",
    "n1, n2 = 0, 1\n",
    "count = 0\n",
    "if n<= 0:\n",
    "   print(\"Please enter a positive integer\")\n",
    "elif n== 1:\n",
    "   print(\"Fibonacci sequence upto\",nterms,\":\")\n",
    "   print(n1)\n",
    "else:\n",
    "   print(\"Fibonacci sequence:\")\n",
    "   while count < n:\n",
    "       print(n1)\n",
    "       nth = n1 + n2\n",
    "       # update values\n",
    "       n1 = n2\n",
    "       n2 = nth\n",
    "       count += 1"
   ]
  },
  {
   "cell_type": "code",
   "execution_count": 2,
   "id": "fce378b4",
   "metadata": {},
   "outputs": [],
   "source": [
    "#Program to print Armstrong numbers"
   ]
  },
  {
   "cell_type": "code",
   "execution_count": 17,
   "id": "95c9fb9a",
   "metadata": {},
   "outputs": [
    {
     "name": "stdout",
     "output_type": "stream",
     "text": [
      "Enter Number:153\n",
      "153 is Armstrong Number\n"
     ]
    }
   ],
   "source": [
    "n=int(input('Enter Number:'))\n",
    "a=0\n",
    "c=b=n\n",
    "summ=0\n",
    "i=len(str(b))\n",
    "while n>0:\n",
    "    a=n%10\n",
    "    n=n//10\n",
    "    a=a**i\n",
    "    summ=summ+a\n",
    "if c==summ:\n",
    "    print(f'{c} is Armstrong Number')\n",
    "else:\n",
    "    print(f'{c} is Not Armstrong Number')"
   ]
  },
  {
   "cell_type": "code",
   "execution_count": 18,
   "id": "c1d7d377",
   "metadata": {},
   "outputs": [],
   "source": [
    "#Program to find the sum of digits of a number until the sum is reduced to 1 digit          "
   ]
  },
  {
   "cell_type": "code",
   "execution_count": 6,
   "id": "0a5c7c04",
   "metadata": {},
   "outputs": [
    {
     "name": "stdout",
     "output_type": "stream",
     "text": [
      "Enter Number:5\n",
      "5\n"
     ]
    }
   ],
   "source": [
    "n=int(input('Enter Number:'))\n",
    "s=a=0\n",
    "while n:\n",
    "    s+=n%10\n",
    "    n//=10\n",
    "if len(str(s))>1:\n",
    "    while s:\n",
    "        a+=s%10\n",
    "        s//=10\n",
    "    print(a)\n",
    "else:\n",
    "    print(s)"
   ]
  },
  {
   "cell_type": "code",
   "execution_count": 20,
   "id": "4d66d589",
   "metadata": {},
   "outputs": [],
   "source": [
    "#Program to find whether a number is prime or not"
   ]
  },
  {
   "cell_type": "code",
   "execution_count": 28,
   "id": "2eb776f7",
   "metadata": {},
   "outputs": [
    {
     "name": "stdout",
     "output_type": "stream",
     "text": [
      "Enter Number:7\n",
      "Prime Number\n"
     ]
    }
   ],
   "source": [
    "n=int(input('Enter Number:'))\n",
    "a=1\n",
    "i=0\n",
    "while a<=n:\n",
    "    if n%a==0:\n",
    "        i+=1\n",
    "    a+=1\n",
    "if i==2:\n",
    "    print('Prime Number')\n",
    "else:\n",
    "    print('Not Prime Number')"
   ]
  },
  {
   "cell_type": "code",
   "execution_count": 29,
   "id": "007f7ff0",
   "metadata": {},
   "outputs": [],
   "source": [
    "#Program to find the sum and average of 10 positive integers"
   ]
  },
  {
   "cell_type": "code",
   "execution_count": 45,
   "id": "b018c222",
   "metadata": {},
   "outputs": [
    {
     "name": "stdout",
     "output_type": "stream",
     "text": [
      "Enter Starting Range:22\n",
      "Average:- 26.5\n",
      "Sum:- 265\n"
     ]
    }
   ],
   "source": [
    "s=int(input('Enter Starting Range:'))\n",
    "summ=0\n",
    "avg=0\n",
    "i=0\n",
    "while i<10:\n",
    "    summ=summ+s\n",
    "    s=s+1\n",
    "    i+=1\n",
    "print('Average:-',(summ/10))\n",
    "print('Sum:-',summ)"
   ]
  },
  {
   "cell_type": "code",
   "execution_count": 30,
   "id": "280c7e14",
   "metadata": {},
   "outputs": [],
   "source": [
    "#Program to perform arithmetic calculations on integers"
   ]
  },
  {
   "cell_type": "code",
   "execution_count": 1,
   "id": "7d4d3203",
   "metadata": {},
   "outputs": [
    {
     "name": "stdout",
     "output_type": "stream",
     "text": [
      "Enter 1st Operand:3\n",
      "Enter 2nd Operand:4\n",
      "Enter Operator(+,-,/,*):+\n",
      "Addition of 3 and 4 is  7\n"
     ]
    }
   ],
   "source": [
    "n1=int(input('Enter 1st Operand:'))\n",
    "n2=int(input('Enter 2nd Operand:'))\n",
    "n=str(input('Enter Operator(+,-,/,*):'))\n",
    "if n=='+':\n",
    "    print(f'Addition of {n1} and {n2} is ',(n1+n2))\n",
    "elif n=='-':\n",
    "    print(f'Substraction of {n2} and {n1} is ',(n2-n1))\n",
    "elif n=='*':\n",
    "    print(f'Multiplication of {n1} and {n2} is ',(n1*n2))\n",
    "elif n=='/':\n",
    "    print(f'Divison of {n2} and {n1} is ',(n2/n1))\n",
    "else:\n",
    "    print('Invalid Operator')"
   ]
  },
  {
   "cell_type": "code",
   "execution_count": 31,
   "id": "917cd6cb",
   "metadata": {},
   "outputs": [],
   "source": [
    "#Program to find whether the alphabet is a vowel or consonant"
   ]
  },
  {
   "cell_type": "code",
   "execution_count": 3,
   "id": "01423902",
   "metadata": {},
   "outputs": [
    {
     "name": "stdout",
     "output_type": "stream",
     "text": [
      "Enter Character:E\n",
      "E is Vowel\n"
     ]
    }
   ],
   "source": [
    "ch=str(input('Enter Character:'))\n",
    "if ch=='a' or ch=='e' or ch=='i' or ch=='o' or ch=='u' or ch=='A' or ch=='E' or ch=='I' or ch=='O' or ch=='U':\n",
    "    print(f'{ch} is Vowel')\n",
    "else:\n",
    "    print(f'{ch} is Consonant')"
   ]
  },
  {
   "cell_type": "code",
   "execution_count": 32,
   "id": "f0eddeae",
   "metadata": {},
   "outputs": [],
   "source": [
    "#Program to check whether a date is valid or not"
   ]
  },
  {
   "cell_type": "code",
   "execution_count": 16,
   "id": "9e7ad547",
   "metadata": {},
   "outputs": [
    {
     "name": "stdout",
     "output_type": "stream",
     "text": [
      "Enter Date:1\n",
      "Valid Date\n"
     ]
    }
   ],
   "source": [
    "date=int(input('Enter Date:'))\n",
    "if 0<date<32:\n",
    "    print('Valid Date')\n",
    "else:\n",
    "    print('Invalid Date')"
   ]
  },
  {
   "cell_type": "code",
   "execution_count": 33,
   "id": "3c2d34bc",
   "metadata": {},
   "outputs": [],
   "source": [
    "#Program to get difference of two dates in years, months days"
   ]
  },
  {
   "cell_type": "code",
   "execution_count": null,
   "id": "29dea285",
   "metadata": {},
   "outputs": [],
   "source": []
  },
  {
   "cell_type": "code",
   "execution_count": 34,
   "id": "b2e720c9",
   "metadata": {},
   "outputs": [],
   "source": [
    "#Program to find LCM and HCF of two numbers"
   ]
  },
  {
   "cell_type": "code",
   "execution_count": 17,
   "id": "e458411f",
   "metadata": {},
   "outputs": [
    {
     "name": "stdout",
     "output_type": "stream",
     "text": [
      "Enter 1st Number:12\n",
      "Enter 2nd Number:14\n",
      "LCM:- 84\n",
      "HCF:- 2\n"
     ]
    }
   ],
   "source": [
    "n1=int(input('Enter 1st Number:'))\n",
    "n2=int(input('Enter 2nd Number:'))\n",
    "hcf=1\n",
    "for i in range(1,max(n1,n2)):\n",
    "    if(n1%i==n2%i==0):\n",
    "        hcf=i\n",
    "lcm=(n1*n2)//hcf\n",
    "print('LCM:-',lcm)\n",
    "print('HCF:-',hcf)"
   ]
  },
  {
   "cell_type": "code",
   "execution_count": 35,
   "id": "bb5e62e2",
   "metadata": {},
   "outputs": [],
   "source": [
    "#Program to print numbers from 1 t0 80 separated by tab, 8 numbers per line"
   ]
  },
  {
   "cell_type": "code",
   "execution_count": 19,
   "id": "c4dfddb8",
   "metadata": {},
   "outputs": [
    {
     "name": "stdout",
     "output_type": "stream",
     "text": [
      "1\t2\t3\t4\t5\t6\t7\t8\t\n",
      "\n",
      "9\t10\t11\t12\t13\t14\t15\t16\t\n",
      "\n",
      "17\t18\t19\t20\t21\t22\t23\t24\t\n",
      "\n",
      "25\t26\t27\t28\t29\t30\t31\t32\t\n",
      "\n",
      "33\t34\t35\t36\t37\t38\t39\t40\t\n",
      "\n",
      "41\t42\t43\t44\t45\t46\t47\t48\t\n",
      "\n",
      "49\t50\t51\t52\t53\t54\t55\t56\t\n",
      "\n",
      "57\t58\t59\t60\t61\t62\t63\t64\t\n",
      "\n",
      "65\t66\t67\t68\t69\t70\t71\t72\t\n",
      "\n",
      "73\t74\t75\t76\t77\t78\t79\t80\t\n",
      "\n"
     ]
    }
   ],
   "source": [
    "n=1\n",
    "while n<81:\n",
    "    print(f'{n}\\t',end='')\n",
    "    if n%8==0:\n",
    "        print('\\n')\n",
    "    n+=1"
   ]
  },
  {
   "cell_type": "code",
   "execution_count": 21,
   "id": "a872cba4",
   "metadata": {},
   "outputs": [],
   "source": [
    "#Write a program to input 10 numbers ranging from 1 to 50 and draw a histogram by displaying adjacent ‘=’\n",
    "#signs for each number entered."
   ]
  },
  {
   "cell_type": "code",
   "execution_count": 37,
   "id": "bb16f589",
   "metadata": {},
   "outputs": [
    {
     "name": "stdout",
     "output_type": "stream",
     "text": [
      "Enter 1 Number:3\n",
      "Enter 2 Number:76\n",
      "Enter 3 Number:32\n",
      "Enter 4 Number:22\n",
      "===\n",
      "============================================================================\n",
      "================================\n",
      "======================\n"
     ]
    }
   ],
   "source": [
    "l=[]\n",
    "for i in range(10):\n",
    "    n=int(input(f'Enter {i+1} Number:'))\n",
    "    l.append(n)\n",
    "    q+=1\n",
    "for i in l:\n",
    "    print('='*i)\n"
   ]
  },
  {
   "cell_type": "code",
   "execution_count": 35,
   "id": "4a05ca8e",
   "metadata": {},
   "outputs": [],
   "source": [
    "#Write a program to print all prime numbers from 1 to n"
   ]
  },
  {
   "cell_type": "code",
   "execution_count": 44,
   "id": "5ba21c79",
   "metadata": {},
   "outputs": [
    {
     "name": "stdout",
     "output_type": "stream",
     "text": [
      "Enter End Range:100\n",
      "2\n",
      "3\n",
      "5\n",
      "7\n",
      "11\n",
      "13\n",
      "17\n",
      "19\n",
      "23\n",
      "29\n",
      "31\n",
      "37\n",
      "41\n",
      "43\n",
      "47\n",
      "53\n",
      "59\n",
      "61\n",
      "67\n",
      "71\n",
      "73\n",
      "79\n",
      "83\n",
      "89\n",
      "97\n"
     ]
    }
   ],
   "source": [
    "n=int(input('Enter End Range:'))\n",
    "a=1\n",
    "while a<=n:\n",
    "    i=0\n",
    "    b=1\n",
    "    while b<=a:\n",
    "        if(a%b==0):\n",
    "            i+=1\n",
    "        b+=1\n",
    "    if i==2:\n",
    "        print(a)\n",
    "    a+=1"
   ]
  },
  {
   "cell_type": "code",
   "execution_count": 45,
   "id": "a495983d",
   "metadata": {},
   "outputs": [],
   "source": [
    "#Write a program to enter a number and find the reverse of that number. \n",
    "# Also display the double of the reverse number."
   ]
  },
  {
   "cell_type": "code",
   "execution_count": 52,
   "id": "e014be62",
   "metadata": {},
   "outputs": [
    {
     "name": "stdout",
     "output_type": "stream",
     "text": [
      "Enter Number:12345\n",
      "54321\n"
     ]
    }
   ],
   "source": [
    "n=int(input('Enter Number:'))\n",
    "r=0\n",
    "while n!=0:\n",
    "    a=n%10\n",
    "    r=r*10+a\n",
    "    n//=10\n",
    "print(r)"
   ]
  },
  {
   "cell_type": "code",
   "execution_count": 49,
   "id": "ac45ebcc",
   "metadata": {},
   "outputs": [],
   "source": [
    "#Write a program to find a number is palindrome or not"
   ]
  },
  {
   "cell_type": "code",
   "execution_count": 54,
   "id": "6dd0ded2",
   "metadata": {},
   "outputs": [
    {
     "name": "stdout",
     "output_type": "stream",
     "text": [
      "Enter Number:123214324\n",
      "Not Pallindrome Number\n"
     ]
    }
   ],
   "source": [
    "n=int(input('Enter Number:'))\n",
    "r=0\n",
    "k=n\n",
    "while n!=0:\n",
    "    a=n%10\n",
    "    r=r*10+a\n",
    "    n//=10\n",
    "if k==r:\n",
    "    print('Pallindrome Number')\n",
    "else:\n",
    "    print('Not Pallindrome Number')"
   ]
  },
  {
   "cell_type": "code",
   "execution_count": 55,
   "id": "0fab6b34",
   "metadata": {},
   "outputs": [],
   "source": [
    "#Write a program to display all four digit palindromes"
   ]
  },
  {
   "cell_type": "code",
   "execution_count": 61,
   "id": "db2e0077",
   "metadata": {},
   "outputs": [
    {
     "name": "stdout",
     "output_type": "stream",
     "text": [
      "1001\n",
      "1111\n",
      "1221\n",
      "1331\n",
      "1441\n",
      "1551\n",
      "1661\n",
      "1771\n",
      "1881\n",
      "1991\n",
      "2002\n",
      "2112\n",
      "2222\n",
      "2332\n",
      "2442\n",
      "2552\n",
      "2662\n",
      "2772\n",
      "2882\n",
      "2992\n",
      "3003\n",
      "3113\n",
      "3223\n",
      "3333\n",
      "3443\n",
      "3553\n",
      "3663\n",
      "3773\n",
      "3883\n",
      "3993\n",
      "4004\n",
      "4114\n",
      "4224\n",
      "4334\n",
      "4444\n",
      "4554\n",
      "4664\n",
      "4774\n",
      "4884\n",
      "4994\n",
      "5005\n",
      "5115\n",
      "5225\n",
      "5335\n",
      "5445\n",
      "5555\n",
      "5665\n",
      "5775\n",
      "5885\n",
      "5995\n",
      "6006\n",
      "6116\n",
      "6226\n",
      "6336\n",
      "6446\n",
      "6556\n",
      "6666\n",
      "6776\n",
      "6886\n",
      "6996\n",
      "7007\n",
      "7117\n",
      "7227\n",
      "7337\n",
      "7447\n",
      "7557\n",
      "7667\n",
      "7777\n",
      "7887\n",
      "7997\n",
      "8008\n",
      "8118\n",
      "8228\n",
      "8338\n",
      "8448\n",
      "8558\n",
      "8668\n",
      "8778\n",
      "8888\n",
      "8998\n",
      "9009\n",
      "9119\n",
      "9229\n",
      "9339\n",
      "9449\n",
      "9559\n",
      "9669\n",
      "9779\n",
      "9889\n",
      "9999\n"
     ]
    }
   ],
   "source": [
    "s=1000\n",
    "for i in range(s,10000):\n",
    "    c=e=i\n",
    "    a=r=0\n",
    "    while c!=0:\n",
    "        a=c%10\n",
    "        r=r*10+a\n",
    "        c//=10\n",
    "    if e==r:\n",
    "        print(e)"
   ]
  },
  {
   "cell_type": "code",
   "execution_count": 62,
   "id": "2a54bc7d",
   "metadata": {},
   "outputs": [],
   "source": [
    "#Write a program to input a number and count the digits in it.\n",
    "#Use while loop and the program should work correctly for 0 also."
   ]
  },
  {
   "cell_type": "code",
   "execution_count": 72,
   "id": "2c808f6e",
   "metadata": {},
   "outputs": [
    {
     "name": "stdout",
     "output_type": "stream",
     "text": [
      "Enter Number:23\n",
      "2\n"
     ]
    }
   ],
   "source": [
    "n=int(input('Enter Number:'))\n",
    "if (len(str(n)))>1:\n",
    "    print(len(str(n)))\n",
    "else:\n",
    "    print(0)"
   ]
  },
  {
   "cell_type": "code",
   "execution_count": null,
   "id": "0e8683a2",
   "metadata": {},
   "outputs": [],
   "source": [
    "#"
   ]
  }
 ],
 "metadata": {
  "kernelspec": {
   "display_name": "Python 3 (ipykernel)",
   "language": "python",
   "name": "python3"
  },
  "language_info": {
   "codemirror_mode": {
    "name": "ipython",
    "version": 3
   },
   "file_extension": ".py",
   "mimetype": "text/x-python",
   "name": "python",
   "nbconvert_exporter": "python",
   "pygments_lexer": "ipython3",
   "version": "3.10.5"
  }
 },
 "nbformat": 4,
 "nbformat_minor": 5
}
