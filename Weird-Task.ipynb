{
 "cells": [
  {
   "cell_type": "code",
   "execution_count": 1,
   "id": "927b7ac1",
   "metadata": {},
   "outputs": [],
   "source": [
    "#If  n is odd, print Weird\n",
    "#If n is even and in the inclusive range of  2 to 5 , print Not Weird\n",
    "#If n  is even and in the inclusive range of 6  to 20 , print Weird\n",
    "#If  n is even and greater than  20, print Not Weird"
   ]
  },
  {
   "cell_type": "code",
   "execution_count": 3,
   "id": "1f579c69",
   "metadata": {},
   "outputs": [
    {
     "name": "stdout",
     "output_type": "stream",
     "text": [
      "Enter Number:13\n",
      "Weird\n"
     ]
    }
   ],
   "source": [
    "n=int(input('Enter Number:'))\n",
    "if n%2!=0:\n",
    "    print('Weird')\n",
    "else:\n",
    "    if n>=2 and n<=5:\n",
    "        print('Not Weird')\n",
    "    elif n>=6 and n<=20:\n",
    "        print('Weird')\n",
    "    elif n>20:\n",
    "        print('Not Weird')"
   ]
  },
  {
   "cell_type": "code",
   "execution_count": null,
   "id": "ba69173d",
   "metadata": {},
   "outputs": [],
   "source": []
  }
 ],
 "metadata": {
  "kernelspec": {
   "display_name": "Python 3 (ipykernel)",
   "language": "python",
   "name": "python3"
  },
  "language_info": {
   "codemirror_mode": {
    "name": "ipython",
    "version": 3
   },
   "file_extension": ".py",
   "mimetype": "text/x-python",
   "name": "python",
   "nbconvert_exporter": "python",
   "pygments_lexer": "ipython3",
   "version": "3.10.5"
  }
 },
 "nbformat": 4,
 "nbformat_minor": 5
}
